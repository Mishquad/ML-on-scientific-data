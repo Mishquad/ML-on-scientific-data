{
 "cells": [
  {
   "cell_type": "markdown",
   "id": "05a4ec20",
   "metadata": {},
   "source": [
    "### https://kaggle.com/competitions/flight-delays-spring-2018"
   ]
  },
  {
   "cell_type": "markdown",
   "id": "dfe5d12f",
   "metadata": {},
   "source": [
    "Датасет содержит данные о полетах гражданской авиации в США в 2018 г.\\\n",
    "Таргет - задержан ли вылет самолета на 15 минут и более (да/нет)"
   ]
  },
  {
   "cell_type": "markdown",
   "id": "330e8944",
   "metadata": {},
   "source": [
    "__Бизнес-задача__: реализовать классификатор, предсказывающий задержку самолета. \\\n",
    "__Зачем__ : с его помощью аэропорты могут точнее планировать расписание полетов и работу персонала, пассажиры смогут тщательнее планировать свои путешествия, а авиалинии - устранять недочеты с помощью интерпретации признаков, избегать лишних штрафов и простоев авиапарка."
   ]
  },
  {
   "cell_type": "markdown",
   "id": "335a8963",
   "metadata": {},
   "source": [
    "__ML-задача__: Бинарная классификация"
   ]
  },
  {
   "cell_type": "markdown",
   "id": "1d6e6f97",
   "metadata": {},
   "source": [
    "__Метрика: F-score__\\\n",
    "На первый взгляд не очевидно, критичнее здесь False Positive или False Negative ошибка. Но мое предположение состоит в том, что максимизировать Recall более целесообразно, нежели Precision. Авиалиниям проще предупредить, что рейс задержится, и тогда остальные участники (пассажиры и аэропорты) будут строить из этого факта свои ожидания и планы. Также авиалинии снижают риски возможных претензий, судов и штрафов. Однако не совсем понятно, насколько \"дорого\" обойдется такое суждение для авиакомпании : она может закладывать задержку рейса в свою деятельность, но самолеты будут прилетать вовремя и простаивать (а это звучит дорого в плане содержания самолета и экипажа), если мы лишний раз предскажем задержку вылета, будучи действующим сервисом в рамках авиалинии. Поэтому я остановлю свой выбор на F-score, который покрывает обе этих метрики."
   ]
  },
  {
   "cell_type": "code",
   "execution_count": 1,
   "id": "395a3c07",
   "metadata": {},
   "outputs": [],
   "source": [
    "import pandas as pd\n",
    "import numpy as np\n",
    "import matplotlib.pyplot as plt\n",
    "import seaborn as sns"
   ]
  },
  {
   "cell_type": "code",
   "execution_count": 136,
   "id": "82e92654",
   "metadata": {},
   "outputs": [],
   "source": [
    "df = pd.read_csv('flight_delays_train.csv')"
   ]
  },
  {
   "cell_type": "code",
   "execution_count": 137,
   "id": "8873e808",
   "metadata": {},
   "outputs": [
    {
     "data": {
      "text/html": [
       "<div>\n",
       "<style scoped>\n",
       "    .dataframe tbody tr th:only-of-type {\n",
       "        vertical-align: middle;\n",
       "    }\n",
       "\n",
       "    .dataframe tbody tr th {\n",
       "        vertical-align: top;\n",
       "    }\n",
       "\n",
       "    .dataframe thead th {\n",
       "        text-align: right;\n",
       "    }\n",
       "</style>\n",
       "<table border=\"1\" class=\"dataframe\">\n",
       "  <thead>\n",
       "    <tr style=\"text-align: right;\">\n",
       "      <th></th>\n",
       "      <th>Month</th>\n",
       "      <th>DayofMonth</th>\n",
       "      <th>DayOfWeek</th>\n",
       "      <th>DepTime</th>\n",
       "      <th>UniqueCarrier</th>\n",
       "      <th>Origin</th>\n",
       "      <th>Dest</th>\n",
       "      <th>Distance</th>\n",
       "      <th>dep_delayed_15min</th>\n",
       "    </tr>\n",
       "  </thead>\n",
       "  <tbody>\n",
       "    <tr>\n",
       "      <th>0</th>\n",
       "      <td>c-8</td>\n",
       "      <td>c-21</td>\n",
       "      <td>c-7</td>\n",
       "      <td>1934</td>\n",
       "      <td>AA</td>\n",
       "      <td>ATL</td>\n",
       "      <td>DFW</td>\n",
       "      <td>732</td>\n",
       "      <td>N</td>\n",
       "    </tr>\n",
       "    <tr>\n",
       "      <th>1</th>\n",
       "      <td>c-4</td>\n",
       "      <td>c-20</td>\n",
       "      <td>c-3</td>\n",
       "      <td>1548</td>\n",
       "      <td>US</td>\n",
       "      <td>PIT</td>\n",
       "      <td>MCO</td>\n",
       "      <td>834</td>\n",
       "      <td>N</td>\n",
       "    </tr>\n",
       "    <tr>\n",
       "      <th>2</th>\n",
       "      <td>c-9</td>\n",
       "      <td>c-2</td>\n",
       "      <td>c-5</td>\n",
       "      <td>1422</td>\n",
       "      <td>XE</td>\n",
       "      <td>RDU</td>\n",
       "      <td>CLE</td>\n",
       "      <td>416</td>\n",
       "      <td>N</td>\n",
       "    </tr>\n",
       "    <tr>\n",
       "      <th>3</th>\n",
       "      <td>c-11</td>\n",
       "      <td>c-25</td>\n",
       "      <td>c-6</td>\n",
       "      <td>1015</td>\n",
       "      <td>OO</td>\n",
       "      <td>DEN</td>\n",
       "      <td>MEM</td>\n",
       "      <td>872</td>\n",
       "      <td>N</td>\n",
       "    </tr>\n",
       "    <tr>\n",
       "      <th>4</th>\n",
       "      <td>c-10</td>\n",
       "      <td>c-7</td>\n",
       "      <td>c-6</td>\n",
       "      <td>1828</td>\n",
       "      <td>WN</td>\n",
       "      <td>MDW</td>\n",
       "      <td>OMA</td>\n",
       "      <td>423</td>\n",
       "      <td>Y</td>\n",
       "    </tr>\n",
       "    <tr>\n",
       "      <th>...</th>\n",
       "      <td>...</td>\n",
       "      <td>...</td>\n",
       "      <td>...</td>\n",
       "      <td>...</td>\n",
       "      <td>...</td>\n",
       "      <td>...</td>\n",
       "      <td>...</td>\n",
       "      <td>...</td>\n",
       "      <td>...</td>\n",
       "    </tr>\n",
       "    <tr>\n",
       "      <th>99995</th>\n",
       "      <td>c-5</td>\n",
       "      <td>c-4</td>\n",
       "      <td>c-3</td>\n",
       "      <td>1618</td>\n",
       "      <td>OO</td>\n",
       "      <td>SFO</td>\n",
       "      <td>RDD</td>\n",
       "      <td>199</td>\n",
       "      <td>N</td>\n",
       "    </tr>\n",
       "    <tr>\n",
       "      <th>99996</th>\n",
       "      <td>c-1</td>\n",
       "      <td>c-18</td>\n",
       "      <td>c-3</td>\n",
       "      <td>804</td>\n",
       "      <td>CO</td>\n",
       "      <td>EWR</td>\n",
       "      <td>DAB</td>\n",
       "      <td>884</td>\n",
       "      <td>N</td>\n",
       "    </tr>\n",
       "    <tr>\n",
       "      <th>99997</th>\n",
       "      <td>c-1</td>\n",
       "      <td>c-24</td>\n",
       "      <td>c-2</td>\n",
       "      <td>1901</td>\n",
       "      <td>NW</td>\n",
       "      <td>DTW</td>\n",
       "      <td>IAH</td>\n",
       "      <td>1076</td>\n",
       "      <td>N</td>\n",
       "    </tr>\n",
       "    <tr>\n",
       "      <th>99998</th>\n",
       "      <td>c-4</td>\n",
       "      <td>c-27</td>\n",
       "      <td>c-4</td>\n",
       "      <td>1515</td>\n",
       "      <td>MQ</td>\n",
       "      <td>DFW</td>\n",
       "      <td>GGG</td>\n",
       "      <td>140</td>\n",
       "      <td>N</td>\n",
       "    </tr>\n",
       "    <tr>\n",
       "      <th>99999</th>\n",
       "      <td>c-11</td>\n",
       "      <td>c-17</td>\n",
       "      <td>c-4</td>\n",
       "      <td>1800</td>\n",
       "      <td>WN</td>\n",
       "      <td>SEA</td>\n",
       "      <td>SMF</td>\n",
       "      <td>605</td>\n",
       "      <td>N</td>\n",
       "    </tr>\n",
       "  </tbody>\n",
       "</table>\n",
       "<p>100000 rows × 9 columns</p>\n",
       "</div>"
      ],
      "text/plain": [
       "      Month DayofMonth DayOfWeek  DepTime UniqueCarrier Origin Dest  Distance  \\\n",
       "0       c-8       c-21       c-7     1934            AA    ATL  DFW       732   \n",
       "1       c-4       c-20       c-3     1548            US    PIT  MCO       834   \n",
       "2       c-9        c-2       c-5     1422            XE    RDU  CLE       416   \n",
       "3      c-11       c-25       c-6     1015            OO    DEN  MEM       872   \n",
       "4      c-10        c-7       c-6     1828            WN    MDW  OMA       423   \n",
       "...     ...        ...       ...      ...           ...    ...  ...       ...   \n",
       "99995   c-5        c-4       c-3     1618            OO    SFO  RDD       199   \n",
       "99996   c-1       c-18       c-3      804            CO    EWR  DAB       884   \n",
       "99997   c-1       c-24       c-2     1901            NW    DTW  IAH      1076   \n",
       "99998   c-4       c-27       c-4     1515            MQ    DFW  GGG       140   \n",
       "99999  c-11       c-17       c-4     1800            WN    SEA  SMF       605   \n",
       "\n",
       "      dep_delayed_15min  \n",
       "0                     N  \n",
       "1                     N  \n",
       "2                     N  \n",
       "3                     N  \n",
       "4                     Y  \n",
       "...                 ...  \n",
       "99995                 N  \n",
       "99996                 N  \n",
       "99997                 N  \n",
       "99998                 N  \n",
       "99999                 N  \n",
       "\n",
       "[100000 rows x 9 columns]"
      ]
     },
     "execution_count": 137,
     "metadata": {},
     "output_type": "execute_result"
    }
   ],
   "source": [
    "df"
   ]
  },
  {
   "cell_type": "markdown",
   "id": "0169eac4",
   "metadata": {},
   "source": [
    "__В наборе данных содержатся поля:__\n",
    "* Месяц рейса\n",
    "* День месяца \n",
    "* День недели \n",
    "* Время вылета\n",
    "* Название авиалинии\n",
    "* Аэропорт отправления\n",
    "* Аэропорт назначения\n",
    "* Расстояние между аэропортами\n",
    "* Факт задержки рейса более, чем на 15 минут"
   ]
  },
  {
   "cell_type": "code",
   "execution_count": 4,
   "id": "f5ed2189",
   "metadata": {},
   "outputs": [],
   "source": [
    "# Заменим даты на соотв. порядковые числа"
   ]
  },
  {
   "cell_type": "code",
   "execution_count": 138,
   "id": "d94ef161",
   "metadata": {},
   "outputs": [],
   "source": [
    "df['Month'] = df['Month'].str.replace(\"c-\",\"\")\n",
    "df['DayofMonth'] = df['DayofMonth'].str.replace(\"c-\",\"\")\n",
    "df['DayOfWeek'] = df['DayOfWeek'].str.replace(\"c-\",\"\")\n",
    "\n",
    "df['Month'] = df['Month'].astype(int)\n",
    "df['DayofMonth'] = df['DayofMonth'].astype(int)\n",
    "df['DayOfWeek'] = df['DayOfWeek'].astype(int)"
   ]
  },
  {
   "cell_type": "code",
   "execution_count": 139,
   "id": "4348cd41",
   "metadata": {},
   "outputs": [
    {
     "data": {
      "text/html": [
       "<div>\n",
       "<style scoped>\n",
       "    .dataframe tbody tr th:only-of-type {\n",
       "        vertical-align: middle;\n",
       "    }\n",
       "\n",
       "    .dataframe tbody tr th {\n",
       "        vertical-align: top;\n",
       "    }\n",
       "\n",
       "    .dataframe thead th {\n",
       "        text-align: right;\n",
       "    }\n",
       "</style>\n",
       "<table border=\"1\" class=\"dataframe\">\n",
       "  <thead>\n",
       "    <tr style=\"text-align: right;\">\n",
       "      <th></th>\n",
       "      <th>Month</th>\n",
       "      <th>DayofMonth</th>\n",
       "      <th>DayOfWeek</th>\n",
       "      <th>DepTime</th>\n",
       "      <th>UniqueCarrier</th>\n",
       "      <th>Origin</th>\n",
       "      <th>Dest</th>\n",
       "      <th>Distance</th>\n",
       "      <th>dep_delayed_15min</th>\n",
       "    </tr>\n",
       "  </thead>\n",
       "  <tbody>\n",
       "    <tr>\n",
       "      <th>0</th>\n",
       "      <td>8</td>\n",
       "      <td>21</td>\n",
       "      <td>7</td>\n",
       "      <td>1934</td>\n",
       "      <td>AA</td>\n",
       "      <td>ATL</td>\n",
       "      <td>DFW</td>\n",
       "      <td>732</td>\n",
       "      <td>N</td>\n",
       "    </tr>\n",
       "    <tr>\n",
       "      <th>1</th>\n",
       "      <td>4</td>\n",
       "      <td>20</td>\n",
       "      <td>3</td>\n",
       "      <td>1548</td>\n",
       "      <td>US</td>\n",
       "      <td>PIT</td>\n",
       "      <td>MCO</td>\n",
       "      <td>834</td>\n",
       "      <td>N</td>\n",
       "    </tr>\n",
       "    <tr>\n",
       "      <th>2</th>\n",
       "      <td>9</td>\n",
       "      <td>2</td>\n",
       "      <td>5</td>\n",
       "      <td>1422</td>\n",
       "      <td>XE</td>\n",
       "      <td>RDU</td>\n",
       "      <td>CLE</td>\n",
       "      <td>416</td>\n",
       "      <td>N</td>\n",
       "    </tr>\n",
       "    <tr>\n",
       "      <th>3</th>\n",
       "      <td>11</td>\n",
       "      <td>25</td>\n",
       "      <td>6</td>\n",
       "      <td>1015</td>\n",
       "      <td>OO</td>\n",
       "      <td>DEN</td>\n",
       "      <td>MEM</td>\n",
       "      <td>872</td>\n",
       "      <td>N</td>\n",
       "    </tr>\n",
       "    <tr>\n",
       "      <th>4</th>\n",
       "      <td>10</td>\n",
       "      <td>7</td>\n",
       "      <td>6</td>\n",
       "      <td>1828</td>\n",
       "      <td>WN</td>\n",
       "      <td>MDW</td>\n",
       "      <td>OMA</td>\n",
       "      <td>423</td>\n",
       "      <td>Y</td>\n",
       "    </tr>\n",
       "    <tr>\n",
       "      <th>...</th>\n",
       "      <td>...</td>\n",
       "      <td>...</td>\n",
       "      <td>...</td>\n",
       "      <td>...</td>\n",
       "      <td>...</td>\n",
       "      <td>...</td>\n",
       "      <td>...</td>\n",
       "      <td>...</td>\n",
       "      <td>...</td>\n",
       "    </tr>\n",
       "    <tr>\n",
       "      <th>99995</th>\n",
       "      <td>5</td>\n",
       "      <td>4</td>\n",
       "      <td>3</td>\n",
       "      <td>1618</td>\n",
       "      <td>OO</td>\n",
       "      <td>SFO</td>\n",
       "      <td>RDD</td>\n",
       "      <td>199</td>\n",
       "      <td>N</td>\n",
       "    </tr>\n",
       "    <tr>\n",
       "      <th>99996</th>\n",
       "      <td>1</td>\n",
       "      <td>18</td>\n",
       "      <td>3</td>\n",
       "      <td>804</td>\n",
       "      <td>CO</td>\n",
       "      <td>EWR</td>\n",
       "      <td>DAB</td>\n",
       "      <td>884</td>\n",
       "      <td>N</td>\n",
       "    </tr>\n",
       "    <tr>\n",
       "      <th>99997</th>\n",
       "      <td>1</td>\n",
       "      <td>24</td>\n",
       "      <td>2</td>\n",
       "      <td>1901</td>\n",
       "      <td>NW</td>\n",
       "      <td>DTW</td>\n",
       "      <td>IAH</td>\n",
       "      <td>1076</td>\n",
       "      <td>N</td>\n",
       "    </tr>\n",
       "    <tr>\n",
       "      <th>99998</th>\n",
       "      <td>4</td>\n",
       "      <td>27</td>\n",
       "      <td>4</td>\n",
       "      <td>1515</td>\n",
       "      <td>MQ</td>\n",
       "      <td>DFW</td>\n",
       "      <td>GGG</td>\n",
       "      <td>140</td>\n",
       "      <td>N</td>\n",
       "    </tr>\n",
       "    <tr>\n",
       "      <th>99999</th>\n",
       "      <td>11</td>\n",
       "      <td>17</td>\n",
       "      <td>4</td>\n",
       "      <td>1800</td>\n",
       "      <td>WN</td>\n",
       "      <td>SEA</td>\n",
       "      <td>SMF</td>\n",
       "      <td>605</td>\n",
       "      <td>N</td>\n",
       "    </tr>\n",
       "  </tbody>\n",
       "</table>\n",
       "<p>100000 rows × 9 columns</p>\n",
       "</div>"
      ],
      "text/plain": [
       "       Month  DayofMonth  DayOfWeek  DepTime UniqueCarrier Origin Dest  \\\n",
       "0          8          21          7     1934            AA    ATL  DFW   \n",
       "1          4          20          3     1548            US    PIT  MCO   \n",
       "2          9           2          5     1422            XE    RDU  CLE   \n",
       "3         11          25          6     1015            OO    DEN  MEM   \n",
       "4         10           7          6     1828            WN    MDW  OMA   \n",
       "...      ...         ...        ...      ...           ...    ...  ...   \n",
       "99995      5           4          3     1618            OO    SFO  RDD   \n",
       "99996      1          18          3      804            CO    EWR  DAB   \n",
       "99997      1          24          2     1901            NW    DTW  IAH   \n",
       "99998      4          27          4     1515            MQ    DFW  GGG   \n",
       "99999     11          17          4     1800            WN    SEA  SMF   \n",
       "\n",
       "       Distance dep_delayed_15min  \n",
       "0           732                 N  \n",
       "1           834                 N  \n",
       "2           416                 N  \n",
       "3           872                 N  \n",
       "4           423                 Y  \n",
       "...         ...               ...  \n",
       "99995       199                 N  \n",
       "99996       884                 N  \n",
       "99997      1076                 N  \n",
       "99998       140                 N  \n",
       "99999       605                 N  \n",
       "\n",
       "[100000 rows x 9 columns]"
      ]
     },
     "execution_count": 139,
     "metadata": {},
     "output_type": "execute_result"
    }
   ],
   "source": [
    "df"
   ]
  },
  {
   "cell_type": "code",
   "execution_count": 52,
   "id": "f027ba4a",
   "metadata": {},
   "outputs": [
    {
     "data": {
      "text/html": [
       "<div>\n",
       "<style scoped>\n",
       "    .dataframe tbody tr th:only-of-type {\n",
       "        vertical-align: middle;\n",
       "    }\n",
       "\n",
       "    .dataframe tbody tr th {\n",
       "        vertical-align: top;\n",
       "    }\n",
       "\n",
       "    .dataframe thead th {\n",
       "        text-align: right;\n",
       "    }\n",
       "</style>\n",
       "<table border=\"1\" class=\"dataframe\">\n",
       "  <thead>\n",
       "    <tr style=\"text-align: right;\">\n",
       "      <th></th>\n",
       "      <th>Month</th>\n",
       "      <th>DayofMonth</th>\n",
       "      <th>DayOfWeek</th>\n",
       "      <th>DepTime</th>\n",
       "      <th>Distance</th>\n",
       "    </tr>\n",
       "  </thead>\n",
       "  <tbody>\n",
       "    <tr>\n",
       "      <th>count</th>\n",
       "      <td>100000.000000</td>\n",
       "      <td>100000.000000</td>\n",
       "      <td>100000.00000</td>\n",
       "      <td>100000.000000</td>\n",
       "      <td>100000.00000</td>\n",
       "    </tr>\n",
       "    <tr>\n",
       "      <th>mean</th>\n",
       "      <td>6.537640</td>\n",
       "      <td>15.703850</td>\n",
       "      <td>3.95183</td>\n",
       "      <td>1341.523880</td>\n",
       "      <td>729.39716</td>\n",
       "    </tr>\n",
       "    <tr>\n",
       "      <th>std</th>\n",
       "      <td>3.413447</td>\n",
       "      <td>8.793931</td>\n",
       "      <td>1.99164</td>\n",
       "      <td>476.378445</td>\n",
       "      <td>574.61686</td>\n",
       "    </tr>\n",
       "    <tr>\n",
       "      <th>min</th>\n",
       "      <td>1.000000</td>\n",
       "      <td>1.000000</td>\n",
       "      <td>1.00000</td>\n",
       "      <td>1.000000</td>\n",
       "      <td>30.00000</td>\n",
       "    </tr>\n",
       "    <tr>\n",
       "      <th>25%</th>\n",
       "      <td>4.000000</td>\n",
       "      <td>8.000000</td>\n",
       "      <td>2.00000</td>\n",
       "      <td>931.000000</td>\n",
       "      <td>317.00000</td>\n",
       "    </tr>\n",
       "    <tr>\n",
       "      <th>50%</th>\n",
       "      <td>7.000000</td>\n",
       "      <td>16.000000</td>\n",
       "      <td>4.00000</td>\n",
       "      <td>1330.000000</td>\n",
       "      <td>575.00000</td>\n",
       "    </tr>\n",
       "    <tr>\n",
       "      <th>75%</th>\n",
       "      <td>9.000000</td>\n",
       "      <td>23.000000</td>\n",
       "      <td>6.00000</td>\n",
       "      <td>1733.000000</td>\n",
       "      <td>957.00000</td>\n",
       "    </tr>\n",
       "    <tr>\n",
       "      <th>max</th>\n",
       "      <td>12.000000</td>\n",
       "      <td>31.000000</td>\n",
       "      <td>7.00000</td>\n",
       "      <td>2534.000000</td>\n",
       "      <td>4962.00000</td>\n",
       "    </tr>\n",
       "  </tbody>\n",
       "</table>\n",
       "</div>"
      ],
      "text/plain": [
       "               Month     DayofMonth     DayOfWeek        DepTime      Distance\n",
       "count  100000.000000  100000.000000  100000.00000  100000.000000  100000.00000\n",
       "mean        6.537640      15.703850       3.95183    1341.523880     729.39716\n",
       "std         3.413447       8.793931       1.99164     476.378445     574.61686\n",
       "min         1.000000       1.000000       1.00000       1.000000      30.00000\n",
       "25%         4.000000       8.000000       2.00000     931.000000     317.00000\n",
       "50%         7.000000      16.000000       4.00000    1330.000000     575.00000\n",
       "75%         9.000000      23.000000       6.00000    1733.000000     957.00000\n",
       "max        12.000000      31.000000       7.00000    2534.000000    4962.00000"
      ]
     },
     "execution_count": 52,
     "metadata": {},
     "output_type": "execute_result"
    }
   ],
   "source": [
    "df.describe()"
   ]
  },
  {
   "cell_type": "code",
   "execution_count": 144,
   "id": "12c8ec08",
   "metadata": {},
   "outputs": [
    {
     "data": {
      "text/plain": [
       "Month                0\n",
       "DayofMonth           0\n",
       "DayOfWeek            0\n",
       "DepTime              0\n",
       "UniqueCarrier        0\n",
       "Origin               0\n",
       "Dest                 0\n",
       "Distance             0\n",
       "dep_delayed_15min    0\n",
       "dtype: int64"
      ]
     },
     "execution_count": 144,
     "metadata": {},
     "output_type": "execute_result"
    }
   ],
   "source": [
    "df.isna().sum()"
   ]
  },
  {
   "cell_type": "code",
   "execution_count": 134,
   "id": "4e9eeaaa",
   "metadata": {},
   "outputs": [
    {
     "name": "stdout",
     "output_type": "stream",
     "text": [
      "Month has unique values 12\n",
      "DayofMonth has unique values 31\n",
      "DayOfWeek has unique values 7\n",
      "UniqueCarrier has unique values 22\n",
      "Origin has unique values 289\n",
      "Dest has unique values 289\n",
      "DepTime has unique values 1300\n"
     ]
    }
   ],
   "source": [
    "#катег. признаки\n",
    "cat_features = ['Month', 'DayofMonth','DayOfWeek','UniqueCarrier','Origin','Dest','DepTime']\n",
    "for feat in df[cat_features]:\n",
    "    print(feat, 'has unique values', len(np.unique(df[feat])))\n",
    "#DepTime можно разбить на отдельные признаки \"час\" и \"минуты\",но можно и рассматривать как численный признак"
   ]
  },
  {
   "cell_type": "code",
   "execution_count": 91,
   "id": "23deef63",
   "metadata": {},
   "outputs": [
    {
     "data": {
      "image/png": "[encoded data removed]",
      "text/plain": [
       "<Figure size 720x432 with 1 Axes>"
      ]
     },
     "metadata": {
      "needs_background": "light"
     },
     "output_type": "display_data"
    }
   ],
   "source": [
    "# Преобладают относительно короткие перелеты (примерно 700 км)\n",
    "# Нет явной зависимости от расстояния, значит надо копать в другие признаки\n",
    "\n",
    "\n",
    "\n",
    "plt.figure(figsize=(10,6))\n",
    "sns.boxplot(x=df[\"Distance\"], y=df[\"dep_delayed_15min\"]);"
   ]
  },
  {
   "cell_type": "code",
   "execution_count": 53,
   "id": "37c1f0ad",
   "metadata": {},
   "outputs": [
    {
     "data": {
      "image/png": "[encoded data removed]",
      "text/plain": [
       "<Figure size 720x432 with 1 Axes>"
      ]
     },
     "metadata": {
      "needs_background": "light"
     },
     "output_type": "display_data"
    }
   ],
   "source": [
    "df.groupby('Origin').agg({'dep_delayed_15min':'count'}).\\\n",
    "sort_values(by = 'dep_delayed_15min', ascending = False).head(5).plot(kind = 'barh', figsize= (10,6))\n",
    "plt.title('Топ-5 аэропортов по количеству перелетов')\n",
    "plt.show()"
   ]
  },
  {
   "cell_type": "code",
   "execution_count": 48,
   "id": "844bb169",
   "metadata": {
    "scrolled": false
   },
   "outputs": [
    {
     "data": {
      "image/png": "[encoded data removed]",
      "text/plain": [
       "<Figure size 720x432 with 1 Axes>"
      ]
     },
     "metadata": {
      "needs_background": "light"
     },
     "output_type": "display_data"
    }
   ],
   "source": [
    "df[df['dep_delayed_15min']=='Y'].groupby('Origin').agg({'dep_delayed_15min':'count'}).\\\n",
    "sort_values(by = 'dep_delayed_15min', ascending = False).head(10).plot(kind = 'barh', figsize= (10,6))\n",
    "plt.title('Топ-10 аэропортов по количеству задержек')\n",
    "plt.show()"
   ]
  },
  {
   "cell_type": "code",
   "execution_count": 54,
   "id": "ed63d692",
   "metadata": {},
   "outputs": [
    {
     "data": {
      "image/png": "[encoded data removed]",
      "text/plain": [
       "<Figure size 720x432 with 1 Axes>"
      ]
     },
     "metadata": {
      "needs_background": "light"
     },
     "output_type": "display_data"
    }
   ],
   "source": [
    "df.groupby('UniqueCarrier').agg({'dep_delayed_15min':'count'}).\\\n",
    "sort_values(by = 'dep_delayed_15min', ascending = False).head(5).plot(kind = 'barh', figsize= (10,6))\n",
    "plt.title('Топ-5 авиалиний по количеству перелетов')\n",
    "plt.show()"
   ]
  },
  {
   "cell_type": "code",
   "execution_count": 51,
   "id": "3d24ac8c",
   "metadata": {},
   "outputs": [
    {
     "data": {
      "image/png": "[encoded data removed]",
      "text/plain": [
       "<Figure size 720x432 with 1 Axes>"
      ]
     },
     "metadata": {
      "needs_background": "light"
     },
     "output_type": "display_data"
    }
   ],
   "source": [
    "df[df['dep_delayed_15min']=='Y'].groupby('UniqueCarrier').agg({'dep_delayed_15min':'count'}).\\\n",
    "sort_values(by = 'dep_delayed_15min', ascending = False).head(10).plot(kind = 'barh', figsize= (10,6))\n",
    "plt.title('Топ-10 авиалиний по количеству задержек')\n",
    "plt.show()"
   ]
  },
  {
   "cell_type": "markdown",
   "id": "e7e1a995",
   "metadata": {},
   "source": [
    "### Наталкивает на мысль о том, что нужно считать долю задержек, а не абсолютное кол-во, потому что крупнейший аэропорт (или авиакомпания) обслуживает попросту больше перелетов"
   ]
  },
  {
   "cell_type": "code",
   "execution_count": 60,
   "id": "329be3e8",
   "metadata": {},
   "outputs": [],
   "source": [
    "\n",
    "bad_carriers = pd.merge( \\\n",
    "    df[df['ç']=='Y'].groupby('UniqueCarrier').agg({'dep_delayed_15min':'count'}).\\\n",
    "sort_values(by = 'dep_delayed_15min', ascending = False).reset_index(), \\\n",
    "         df.groupby('UniqueCarrier').agg({'dep_delayed_15min':'count'}).\\\n",
    "sort_values(by = 'dep_delayed_15min', ascending = False).reset_index(), on = 'UniqueCarrier' \\\n",
    "        )\n"
   ]
  },
  {
   "cell_type": "code",
   "execution_count": 115,
   "id": "b8f7de98",
   "metadata": {},
   "outputs": [
    {
     "name": "stderr",
     "output_type": "stream",
     "text": [
      "/Users/mivff/opt/anaconda3/lib/python3.9/site-packages/seaborn/_decorators.py:36: FutureWarning: Pass the following variables as keyword args: x, y. From version 0.12, the only valid positional argument will be `data`, and passing other arguments without an explicit keyword will result in an error or misinterpretation.\n",
      "  warnings.warn(\n"
     ]
    },
    {
     "data": {
      "image/png": "[encoded data removed]",
      "text/plain": [
       "<Figure size 720x432 with 1 Axes>"
      ]
     },
     "metadata": {
      "needs_background": "light"
     },
     "output_type": "display_data"
    }
   ],
   "source": [
    "bad_carriers['badrate'] = bad_carriers['dep_delayed_15min_x'] / bad_carriers['dep_delayed_15min_y']\n",
    "plt.figure(figsize = (10,6))\n",
    "sns.barplot(bad_carriers['UniqueCarrier'],bad_carriers['badrate'], order = bad_carriers.sort_values(by='badrate').UniqueCarrier)\n",
    "plt.title('доли задержек по авиалиниям');"
   ]
  },
  {
   "cell_type": "code",
   "execution_count": 109,
   "id": "28806517",
   "metadata": {},
   "outputs": [
    {
     "data": {
      "text/html": [
       "<div>\n",
       "<style scoped>\n",
       "    .dataframe tbody tr th:only-of-type {\n",
       "        vertical-align: middle;\n",
       "    }\n",
       "\n",
       "    .dataframe tbody tr th {\n",
       "        vertical-align: top;\n",
       "    }\n",
       "\n",
       "    .dataframe thead th {\n",
       "        text-align: right;\n",
       "    }\n",
       "</style>\n",
       "<table border=\"1\" class=\"dataframe\">\n",
       "  <thead>\n",
       "    <tr style=\"text-align: right;\">\n",
       "      <th></th>\n",
       "      <th>UniqueCarrier</th>\n",
       "      <th>dep_delayed_15min_x</th>\n",
       "      <th>dep_delayed_15min_y</th>\n",
       "      <th>badrate</th>\n",
       "    </tr>\n",
       "  </thead>\n",
       "  <tbody>\n",
       "    <tr>\n",
       "      <th>20</th>\n",
       "      <td>HA</td>\n",
       "      <td>33</td>\n",
       "      <td>762</td>\n",
       "      <td>0.043307</td>\n",
       "    </tr>\n",
       "    <tr>\n",
       "      <th>21</th>\n",
       "      <td>AQ</td>\n",
       "      <td>18</td>\n",
       "      <td>234</td>\n",
       "      <td>0.076923</td>\n",
       "    </tr>\n",
       "    <tr>\n",
       "      <th>16</th>\n",
       "      <td>HP</td>\n",
       "      <td>196</td>\n",
       "      <td>1378</td>\n",
       "      <td>0.142235</td>\n",
       "    </tr>\n",
       "    <tr>\n",
       "      <th>19</th>\n",
       "      <td>TZ</td>\n",
       "      <td>64</td>\n",
       "      <td>446</td>\n",
       "      <td>0.143498</td>\n",
       "    </tr>\n",
       "    <tr>\n",
       "      <th>17</th>\n",
       "      <td>F9</td>\n",
       "      <td>156</td>\n",
       "      <td>1006</td>\n",
       "      <td>0.155070</td>\n",
       "    </tr>\n",
       "    <tr>\n",
       "      <th>18</th>\n",
       "      <td>DH</td>\n",
       "      <td>156</td>\n",
       "      <td>966</td>\n",
       "      <td>0.161491</td>\n",
       "    </tr>\n",
       "    <tr>\n",
       "      <th>6</th>\n",
       "      <td>US</td>\n",
       "      <td>1085</td>\n",
       "      <td>6482</td>\n",
       "      <td>0.167387</td>\n",
       "    </tr>\n",
       "    <tr>\n",
       "      <th>8</th>\n",
       "      <td>NW</td>\n",
       "      <td>1075</td>\n",
       "      <td>6403</td>\n",
       "      <td>0.167890</td>\n",
       "    </tr>\n",
       "    <tr>\n",
       "      <th>3</th>\n",
       "      <td>DL</td>\n",
       "      <td>1373</td>\n",
       "      <td>8128</td>\n",
       "      <td>0.168922</td>\n",
       "    </tr>\n",
       "    <tr>\n",
       "      <th>5</th>\n",
       "      <td>OO</td>\n",
       "      <td>1277</td>\n",
       "      <td>7390</td>\n",
       "      <td>0.172801</td>\n",
       "    </tr>\n",
       "    <tr>\n",
       "      <th>9</th>\n",
       "      <td>XE</td>\n",
       "      <td>1026</td>\n",
       "      <td>5901</td>\n",
       "      <td>0.173869</td>\n",
       "    </tr>\n",
       "    <tr>\n",
       "      <th>10</th>\n",
       "      <td>OH</td>\n",
       "      <td>808</td>\n",
       "      <td>4594</td>\n",
       "      <td>0.175882</td>\n",
       "    </tr>\n",
       "    <tr>\n",
       "      <th>11</th>\n",
       "      <td>CO</td>\n",
       "      <td>788</td>\n",
       "      <td>4334</td>\n",
       "      <td>0.181818</td>\n",
       "    </tr>\n",
       "    <tr>\n",
       "      <th>1</th>\n",
       "      <td>AA</td>\n",
       "      <td>1770</td>\n",
       "      <td>9418</td>\n",
       "      <td>0.187938</td>\n",
       "    </tr>\n",
       "    <tr>\n",
       "      <th>4</th>\n",
       "      <td>UA</td>\n",
       "      <td>1322</td>\n",
       "      <td>6876</td>\n",
       "      <td>0.192263</td>\n",
       "    </tr>\n",
       "    <tr>\n",
       "      <th>2</th>\n",
       "      <td>MQ</td>\n",
       "      <td>1448</td>\n",
       "      <td>7443</td>\n",
       "      <td>0.194545</td>\n",
       "    </tr>\n",
       "    <tr>\n",
       "      <th>0</th>\n",
       "      <td>WN</td>\n",
       "      <td>3219</td>\n",
       "      <td>15082</td>\n",
       "      <td>0.213433</td>\n",
       "    </tr>\n",
       "    <tr>\n",
       "      <th>15</th>\n",
       "      <td>B6</td>\n",
       "      <td>393</td>\n",
       "      <td>1838</td>\n",
       "      <td>0.213819</td>\n",
       "    </tr>\n",
       "    <tr>\n",
       "      <th>14</th>\n",
       "      <td>YV</td>\n",
       "      <td>478</td>\n",
       "      <td>2128</td>\n",
       "      <td>0.224624</td>\n",
       "    </tr>\n",
       "    <tr>\n",
       "      <th>12</th>\n",
       "      <td>FL</td>\n",
       "      <td>736</td>\n",
       "      <td>3039</td>\n",
       "      <td>0.242185</td>\n",
       "    </tr>\n",
       "    <tr>\n",
       "      <th>13</th>\n",
       "      <td>AS</td>\n",
       "      <td>541</td>\n",
       "      <td>2222</td>\n",
       "      <td>0.243474</td>\n",
       "    </tr>\n",
       "    <tr>\n",
       "      <th>7</th>\n",
       "      <td>EV</td>\n",
       "      <td>1082</td>\n",
       "      <td>3930</td>\n",
       "      <td>0.275318</td>\n",
       "    </tr>\n",
       "  </tbody>\n",
       "</table>\n",
       "</div>"
      ],
      "text/plain": [
       "   UniqueCarrier  dep_delayed_15min_x  dep_delayed_15min_y   badrate\n",
       "20            HA                   33                  762  0.043307\n",
       "21            AQ                   18                  234  0.076923\n",
       "16            HP                  196                 1378  0.142235\n",
       "19            TZ                   64                  446  0.143498\n",
       "17            F9                  156                 1006  0.155070\n",
       "18            DH                  156                  966  0.161491\n",
       "6             US                 1085                 6482  0.167387\n",
       "8             NW                 1075                 6403  0.167890\n",
       "3             DL                 1373                 8128  0.168922\n",
       "5             OO                 1277                 7390  0.172801\n",
       "9             XE                 1026                 5901  0.173869\n",
       "10            OH                  808                 4594  0.175882\n",
       "11            CO                  788                 4334  0.181818\n",
       "1             AA                 1770                 9418  0.187938\n",
       "4             UA                 1322                 6876  0.192263\n",
       "2             MQ                 1448                 7443  0.194545\n",
       "0             WN                 3219                15082  0.213433\n",
       "15            B6                  393                 1838  0.213819\n",
       "14            YV                  478                 2128  0.224624\n",
       "12            FL                  736                 3039  0.242185\n",
       "13            AS                  541                 2222  0.243474\n",
       "7             EV                 1082                 3930  0.275318"
      ]
     },
     "execution_count": 109,
     "metadata": {},
     "output_type": "execute_result"
    }
   ],
   "source": [
    "bad_carriers.sort_values(by='badrate')"
   ]
  },
  {
   "cell_type": "code",
   "execution_count": 117,
   "id": "488b09f4",
   "metadata": {},
   "outputs": [
    {
     "name": "stderr",
     "output_type": "stream",
     "text": [
      "/Users/mivff/opt/anaconda3/lib/python3.9/site-packages/seaborn/_decorators.py:36: FutureWarning: Pass the following variables as keyword args: x, y. From version 0.12, the only valid positional argument will be `data`, and passing other arguments without an explicit keyword will result in an error or misinterpretation.\n",
      "  warnings.warn(\n"
     ]
    },
    {
     "data": {
      "image/png": "[encoded data removed]",
      "text/plain": [
       "<Figure size 720x432 with 1 Axes>"
      ]
     },
     "metadata": {
      "needs_background": "light"
     },
     "output_type": "display_data"
    }
   ],
   "source": [
    "bad_origins = pd.merge( \\\n",
    "    df[df['dep_delayed_15min']=='Y'].groupby('Origin').agg({'dep_delayed_15min':'count'}).\\\n",
    "sort_values(by = 'dep_delayed_15min', ascending = False).reset_index(), \\\n",
    "         df.groupby('Origin').agg({'dep_delayed_15min':'count'}).\\\n",
    "sort_values(by = 'dep_delayed_15min', ascending = False).reset_index(), on = 'Origin' \\\n",
    "        )\n",
    "\n",
    "bad_origins['badrate'] = bad_origins['dep_delayed_15min_x'] / bad_origins['dep_delayed_15min_y']\n",
    "\n",
    "bad_origins = bad_origins.sort_values(by='badrate',ascending = False).head(10)\n",
    "\n",
    "plt.figure(figsize = (10,6))\n",
    "sns.barplot(bad_origins['Origin'],bad_origins['badrate'], order = bad_origins.sort_values(by='badrate').Origin)\n",
    "plt.title('доля задержек по аэропортам отправления');"
   ]
  },
  {
   "cell_type": "code",
   "execution_count": 94,
   "id": "833ca1f1",
   "metadata": {},
   "outputs": [],
   "source": [
    "#Не напрашивается вывод о том, что крупнейшие аэропорты и авиалинии имеют бОльшие доли задержек"
   ]
  },
  {
   "cell_type": "code",
   "execution_count": 119,
   "id": "e01a2ace",
   "metadata": {},
   "outputs": [
    {
     "data": {
      "text/html": [
       "<div>\n",
       "<style scoped>\n",
       "    .dataframe tbody tr th:only-of-type {\n",
       "        vertical-align: middle;\n",
       "    }\n",
       "\n",
       "    .dataframe tbody tr th {\n",
       "        vertical-align: top;\n",
       "    }\n",
       "\n",
       "    .dataframe thead th {\n",
       "        text-align: right;\n",
       "    }\n",
       "</style>\n",
       "<table border=\"1\" class=\"dataframe\">\n",
       "  <thead>\n",
       "    <tr style=\"text-align: right;\">\n",
       "      <th></th>\n",
       "      <th>Month</th>\n",
       "      <th>dep_delayed_15min</th>\n",
       "    </tr>\n",
       "  </thead>\n",
       "  <tbody>\n",
       "    <tr>\n",
       "      <th>0</th>\n",
       "      <td>1</td>\n",
       "      <td>1539</td>\n",
       "    </tr>\n",
       "    <tr>\n",
       "      <th>1</th>\n",
       "      <td>2</td>\n",
       "      <td>1316</td>\n",
       "    </tr>\n",
       "    <tr>\n",
       "      <th>2</th>\n",
       "      <td>3</td>\n",
       "      <td>1676</td>\n",
       "    </tr>\n",
       "    <tr>\n",
       "      <th>3</th>\n",
       "      <td>4</td>\n",
       "      <td>1306</td>\n",
       "    </tr>\n",
       "    <tr>\n",
       "      <th>4</th>\n",
       "      <td>5</td>\n",
       "      <td>1313</td>\n",
       "    </tr>\n",
       "    <tr>\n",
       "      <th>5</th>\n",
       "      <td>6</td>\n",
       "      <td>1867</td>\n",
       "    </tr>\n",
       "    <tr>\n",
       "      <th>6</th>\n",
       "      <td>7</td>\n",
       "      <td>2073</td>\n",
       "    </tr>\n",
       "    <tr>\n",
       "      <th>7</th>\n",
       "      <td>8</td>\n",
       "      <td>1783</td>\n",
       "    </tr>\n",
       "    <tr>\n",
       "      <th>8</th>\n",
       "      <td>9</td>\n",
       "      <td>1279</td>\n",
       "    </tr>\n",
       "    <tr>\n",
       "      <th>9</th>\n",
       "      <td>10</td>\n",
       "      <td>1501</td>\n",
       "    </tr>\n",
       "    <tr>\n",
       "      <th>10</th>\n",
       "      <td>11</td>\n",
       "      <td>1397</td>\n",
       "    </tr>\n",
       "    <tr>\n",
       "      <th>11</th>\n",
       "      <td>12</td>\n",
       "      <td>1994</td>\n",
       "    </tr>\n",
       "  </tbody>\n",
       "</table>\n",
       "</div>"
      ],
      "text/plain": [
       "    Month  dep_delayed_15min\n",
       "0       1               1539\n",
       "1       2               1316\n",
       "2       3               1676\n",
       "3       4               1306\n",
       "4       5               1313\n",
       "5       6               1867\n",
       "6       7               2073\n",
       "7       8               1783\n",
       "8       9               1279\n",
       "9      10               1501\n",
       "10     11               1397\n",
       "11     12               1994"
      ]
     },
     "execution_count": 119,
     "metadata": {},
     "output_type": "execute_result"
    }
   ],
   "source": [
    "# есть ли зависимость задержек от месяца?\n",
    "bad_month = df[df['dep_delayed_15min']=='Y'].groupby('Month').agg({'dep_delayed_15min':'count'}).reset_index()\n",
    "bad_month"
   ]
  },
  {
   "cell_type": "code",
   "execution_count": 121,
   "id": "840b41c1",
   "metadata": {},
   "outputs": [
    {
     "name": "stderr",
     "output_type": "stream",
     "text": [
      "/Users/mivff/opt/anaconda3/lib/python3.9/site-packages/seaborn/_decorators.py:36: FutureWarning: Pass the following variables as keyword args: x, y. From version 0.12, the only valid positional argument will be `data`, and passing other arguments without an explicit keyword will result in an error or misinterpretation.\n",
      "  warnings.warn(\n"
     ]
    },
    {
     "data": {
      "image/png": "[encoded data removed]",
      "text/plain": [
       "<Figure size 720x432 with 1 Axes>"
      ]
     },
     "metadata": {
      "needs_background": "light"
     },
     "output_type": "display_data"
    }
   ],
   "source": [
    "plt.figure(figsize = (10,6))\n",
    "sns.barplot(bad_month['Month'],bad_month['dep_delayed_15min'], order = bad_month.sort_values(by='dep_delayed_15min').Month)\n",
    "plt.title('кол-во задержек по месяцам');\n",
    "\n",
    "#видно, что в рамках этого датасета в июне, июле, декабре задержки чаще всего"
   ]
  },
  {
   "cell_type": "code",
   "execution_count": 140,
   "id": "9d0da7eb",
   "metadata": {},
   "outputs": [
    {
     "data": {
      "text/html": [
       "<div>\n",
       "<style scoped>\n",
       "    .dataframe tbody tr th:only-of-type {\n",
       "        vertical-align: middle;\n",
       "    }\n",
       "\n",
       "    .dataframe tbody tr th {\n",
       "        vertical-align: top;\n",
       "    }\n",
       "\n",
       "    .dataframe thead th {\n",
       "        text-align: right;\n",
       "    }\n",
       "</style>\n",
       "<table border=\"1\" class=\"dataframe\">\n",
       "  <thead>\n",
       "    <tr style=\"text-align: right;\">\n",
       "      <th></th>\n",
       "      <th>DayOfWeek</th>\n",
       "      <th>dep_delayed_15min</th>\n",
       "    </tr>\n",
       "  </thead>\n",
       "  <tbody>\n",
       "    <tr>\n",
       "      <th>0</th>\n",
       "      <td>1</td>\n",
       "      <td>2774</td>\n",
       "    </tr>\n",
       "    <tr>\n",
       "      <th>1</th>\n",
       "      <td>2</td>\n",
       "      <td>2451</td>\n",
       "    </tr>\n",
       "    <tr>\n",
       "      <th>2</th>\n",
       "      <td>3</td>\n",
       "      <td>2567</td>\n",
       "    </tr>\n",
       "    <tr>\n",
       "      <th>3</th>\n",
       "      <td>4</td>\n",
       "      <td>3117</td>\n",
       "    </tr>\n",
       "    <tr>\n",
       "      <th>4</th>\n",
       "      <td>5</td>\n",
       "      <td>3285</td>\n",
       "    </tr>\n",
       "    <tr>\n",
       "      <th>5</th>\n",
       "      <td>6</td>\n",
       "      <td>2145</td>\n",
       "    </tr>\n",
       "    <tr>\n",
       "      <th>6</th>\n",
       "      <td>7</td>\n",
       "      <td>2705</td>\n",
       "    </tr>\n",
       "  </tbody>\n",
       "</table>\n",
       "</div>"
      ],
      "text/plain": [
       "   DayOfWeek  dep_delayed_15min\n",
       "0          1               2774\n",
       "1          2               2451\n",
       "2          3               2567\n",
       "3          4               3117\n",
       "4          5               3285\n",
       "5          6               2145\n",
       "6          7               2705"
      ]
     },
     "execution_count": 140,
     "metadata": {},
     "output_type": "execute_result"
    }
   ],
   "source": [
    "# есть ли зависимость задержек от дня недели?\n",
    "bad_dweek= df[df['dep_delayed_15min']=='Y'].groupby('DayOfWeek').agg({'dep_delayed_15min':'count'}).reset_index()\n",
    "bad_dweek"
   ]
  },
  {
   "cell_type": "code",
   "execution_count": 143,
   "id": "4f3f9e44",
   "metadata": {},
   "outputs": [
    {
     "name": "stderr",
     "output_type": "stream",
     "text": [
      "/Users/mivff/opt/anaconda3/lib/python3.9/site-packages/seaborn/_decorators.py:36: FutureWarning: Pass the following variables as keyword args: x, y. From version 0.12, the only valid positional argument will be `data`, and passing other arguments without an explicit keyword will result in an error or misinterpretation.\n",
      "  warnings.warn(\n"
     ]
    },
    {
     "data": {
      "image/png": "[encoded data removed]",
      "text/plain": [
       "<Figure size 720x432 with 1 Axes>"
      ]
     },
     "metadata": {
      "needs_background": "light"
     },
     "output_type": "display_data"
    }
   ],
   "source": [
    "plt.figure(figsize = (10,6))\n",
    "sns.barplot(bad_dweek['DayOfWeek'],bad_dweek['dep_delayed_15min'], order = bad_dweek.sort_values(by='dep_delayed_15min').DayOfWeek)\n",
    "plt.title('кол-во задержек по дням недели');\n",
    "\n",
    "#в этих данных задержки чаще всего по пятницам и четвергам"
   ]
  },
  {
   "cell_type": "markdown",
   "id": "820356ca",
   "metadata": {},
   "source": [
    "* кажется, что данных достаточно (10 тыс. наблюдений), чтобы была возможность обучить модель и проверить кач-во\n",
    "* не совсем очевидно, какие проблемы могут возникнуть в ходе анализа по этим данным\n",
    "* возможно, для полного анализа еще интересны бы были бинарные переменные о погоде (летная - нелетная)\n",
    "* пропусков нет\n"
   ]
  },
  {
   "cell_type": "code",
   "execution_count": null,
   "id": "778a30fe",
   "metadata": {},
   "outputs": [],
   "source": []
  }
 ],
 "metadata": {
  "kernelspec": {
   "display_name": "Python 3 (ipykernel)",
   "language": "python",
   "name": "python3"
  },
  "language_info": {
   "codemirror_mode": {
    "name": "ipython",
    "version": 3
   },
   "file_extension": ".py",
   "mimetype": "text/x-python",
   "name": "python",
   "nbconvert_exporter": "python",
   "pygments_lexer": "ipython3",
   "version": "3.9.12"
  }
 },
 "nbformat": 4,
 "nbformat_minor": 5
}
